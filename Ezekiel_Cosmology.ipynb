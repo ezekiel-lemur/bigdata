{
  "nbformat": 4,
  "nbformat_minor": 0,
  "metadata": {
    "colab": {
      "name": "Ezekiel- Cosmology.ipynb",
      "provenance": [],
      "collapsed_sections": []
    },
    "kernelspec": {
      "display_name": "Python 3",
      "language": "python",
      "name": "python3"
    },
    "language_info": {
      "codemirror_mode": {
        "name": "ipython",
        "version": 3
      },
      "file_extension": ".py",
      "mimetype": "text/x-python",
      "name": "python",
      "nbconvert_exporter": "python",
      "pygments_lexer": "ipython3",
      "version": "3.8.7"
    }
  },
  "cells": [
    {
      "cell_type": "markdown",
      "metadata": {
        "id": "TkdruF2bYl5j"
      },
      "source": [
        "# <span style='color:deepskyblue'> Cosmology MCMC notebook </span>"
      ]
    },
    {
      "cell_type": "markdown",
      "metadata": {
        "id": "t0SazaVif4pl"
      },
      "source": [
        "## <span style='color:deepskyblue'>Preliminaries</span>"
      ]
    },
    {
      "cell_type": "code",
      "metadata": {
        "colab": {
          "base_uri": "https://localhost:8080/"
        },
        "id": "y6hcXmMbhbMA",
        "scrolled": true,
        "outputId": "50da44a1-6ab2-4d26-997a-1dd4ae15ffcd"
      },
      "source": [
        "# Install required packages (if not available on server)\n",
        "!pip install getdist\n",
        "import numpy as np\n",
        "import matplotlib.pyplot as plt"
      ],
      "execution_count": 34,
      "outputs": [
        {
          "output_type": "stream",
          "text": [
            "Requirement already satisfied: getdist in /usr/local/lib/python3.7/dist-packages (1.1.3)\n",
            "Requirement already satisfied: matplotlib>=2.2.0 in /usr/local/lib/python3.7/dist-packages (from getdist) (3.2.2)\n",
            "Requirement already satisfied: scipy>=1.0.0 in /usr/local/lib/python3.7/dist-packages (from getdist) (1.4.1)\n",
            "Requirement already satisfied: numpy in /usr/local/lib/python3.7/dist-packages (from getdist) (1.19.5)\n",
            "Requirement already satisfied: python-dateutil>=2.1 in /usr/local/lib/python3.7/dist-packages (from matplotlib>=2.2.0->getdist) (2.8.1)\n",
            "Requirement already satisfied: cycler>=0.10 in /usr/local/lib/python3.7/dist-packages (from matplotlib>=2.2.0->getdist) (0.10.0)\n",
            "Requirement already satisfied: pyparsing!=2.0.4,!=2.1.2,!=2.1.6,>=2.0.1 in /usr/local/lib/python3.7/dist-packages (from matplotlib>=2.2.0->getdist) (2.4.7)\n",
            "Requirement already satisfied: kiwisolver>=1.0.1 in /usr/local/lib/python3.7/dist-packages (from matplotlib>=2.2.0->getdist) (1.3.1)\n",
            "Requirement already satisfied: six>=1.5 in /usr/local/lib/python3.7/dist-packages (from python-dateutil>=2.1->matplotlib>=2.2.0->getdist) (1.15.0)\n"
          ],
          "name": "stdout"
        }
      ]
    },
    {
      "cell_type": "markdown",
      "metadata": {
        "id": "ayxOF90lVqKY"
      },
      "source": [
        "## <span style='color:deepskyblue'> The $\\Lambda$CDM Model </span>\n",
        "\n",
        "The Lambda-Cold-Dark-Matter ($\\Lambda$CDM) Model is our concordance cosmological model. It postulates a Universe that behaves according to **General Relativity**, filled with **baryons** (protons, neutrons - the stuff we and stars are made of!), **Cold Dark Matter (CDM)** and a **Cosmological Constant** $\\Lambda$.\n",
        "\n",
        "The expansion of the Universe is best described in terms of the **scale factor** $a$ (the \"radius\" of the Universe, conventionally set to 1 today) and the **Hubble rate** $H$\n",
        "\n",
        "$$\n",
        "H \\equiv \\frac{\\dot a}{a}\n",
        "$$\n",
        "\n",
        "The Einstein Equations in a **homogeneous, isotropic** Universe have an especially simple form and a special name, **Friedmann Equation**:\n",
        "\n",
        "$$\n",
        "H^2 = \\frac{8\\pi G}{3}\\rho + \\frac{k}{a^2}\n",
        "$$\n",
        "\n",
        "where $\\rho$ is the total energy density of the Universe (at a certain time or size), and $k$ is a universal constant related to the [spatial curvature and shape of the Universe](https://en.wikipedia.org/wiki/Shape_of_the_universe#:~:text=The%20spatial%20curvature%20is%20related,indistinguishable%20spaces%20with%20different%20topologies.). In the $\\Lambda$CDM model, this additionally simplifies to\n",
        "\n",
        "$$\n",
        "\\boxed{\n",
        "H^2 = H_0^2\\left(\\Omega_\\Lambda + \\Omega_m a^{-3} + \\Omega_k a^{-2}\\right)\n",
        "}\n",
        "\\qquad\n",
        "\\qquad\n",
        "\\Omega_m + \\Omega_\\Lambda + \\Omega_k = 1\n",
        "$$\n",
        "\n",
        "$H_0$ is the value of the Hubble rate *today*, and the parameters $\\Omega_m$, $\\Omega_\\Lambda$ and $\\Omega_k$ are dimensionless quantities indicating how much of the present expansion of the Universe is due to (non-relativistic) matter, cosmological constant $\\Lambda$, and spatial curvature $k$. Note that the three $\\Omega$'s are *not independent* (their sum is 1) and that we grouped together the contribution of baryons and CDM,\n",
        "\n",
        "$$\n",
        "\\Omega_m = \\Omega_{\\rm CDM} + \\Omega_{\\rm b}\n",
        "$$\n",
        "\n",
        "and that we have evidence that independent evidence that $\\Omega_b \\approx 5$\\%. Note that only $\\Omega_m \\geq 0$ makes physical sense, while in principle both $\\Omega_\\Lambda$ and $\\Omega_k$ can be negative.\n",
        "\n",
        "The present Hubble rate is conventionally parametrised in terms of the dimensionless $h$:\n",
        "\n",
        "$$\n",
        "H_0 \\equiv h\\,\\frac{\\text{km}}{\\text{s Mpc}}\n",
        "$$\n",
        "\n",
        "where Mpc = Megaparsec and [parsec](https://en.wikipedia.org/wiki/Parsec) equals to about $3.26$ light years or $3.086 \\cdot 10^{13}$ m. \n",
        "\n",
        "In essence, these equations give us the relation between *what exists in the Universe* and *how the Universe expanded*. Measure one, I can tell you the other. This is precisely what we aim to do!\n",
        "\n",
        "Time to define the function $H(z)$. Don't forget to include the useful parameters as arguments of the function, and to define `parsec`."
      ]
    },
    {
      "cell_type": "code",
      "metadata": {
        "id": "GJRaVJ5V5YyN"
      },
      "source": [
        "# Test values\r\n",
        "H0 = 70\r\n",
        "O_l = 0.7\r\n",
        "O_m = 0.3\r\n",
        "O_k = 0\r\n",
        "z = 0.5"
      ],
      "execution_count": 35,
      "outputs": []
    },
    {
      "cell_type": "code",
      "metadata": {
        "id": "d6HBF0yYBR2U"
      },
      "source": [
        "import math\n",
        "PARSEC = 3.086E+13 # <--- YOUR CODE GOES HERE!\n",
        "MEGAPARSEC = PARSEC*(10**6)\n",
        "\n",
        "def Hubble(H0, O_l, O_m, O_k, z): \n",
        "  # Hubble(arg0, arg1, arg2, etc...)\n",
        "  H_value = H0*math.sqrt( O_l + O_m*((1+z)**3) + O_k*((1+z)**2) )\n",
        "  \n",
        "  return H_value # <--- YOUR CODE GOES HERE!"
      ],
      "execution_count": 36,
      "outputs": []
    },
    {
      "cell_type": "markdown",
      "metadata": {
        "id": "Fo1C6_DGBR2V"
      },
      "source": [
        "##  <span style='color:deepskyblue'>Supernovae Ia</span>\n",
        "\n",
        "In order to track the expansion of the Universe, we will look at Supernovae type Ia observations. SNIa are formed when a *white dwarf* accretes matter from a companion until it reaches a critical mass of about $1.44 M_\\odot$ (solar masses), after which it explodes **at always the same luminosity** $L_{\\rm SN}$. Therefore, the observed [magnitude](https://en.wikipedia.org/wiki/Magnitude_(astronomy)) is only a function of their [**luminosity distance**](https://en.wikipedia.org/wiki/Distance_measures_(cosmology)) from Earth, defined as the ratio of the intrinsic luminosity $L_{\\rm SNIa}$ and the measured *surface brightness* $\\Phi$ (energy per unit time per unit area)\n",
        "\n",
        "$$ d_L\\equiv \\frac{L_{\\rm SN}}{4\\pi \\Phi} $$\n",
        "\n",
        "While photons (light rays) travel from the distant SNIa to Earth, the Universe expands and the photons get redshifted, and this redshift is directly related to the size of the Universe when the photon was emitted compared to today:\n",
        "\n",
        "$$ \\frac{\\lambda_{\\rm obs}}{\\lambda_{\\rm em}} \\equiv 1 + z_{\\rm em} = \\frac{1}{a_{\\rm em}}$$\n",
        "\n",
        "We can express the luminosity distance in terms of the Hubble rate:\n",
        "\n",
        "$$ \n",
        "\\boxed{\n",
        "\n",
        "d_L(z) = \\frac{c}{H_0}(1+z)\n",
        "\\begin{cases}\n",
        "    \\cfrac{1}{\\sqrt{\\Omega_k}} \\sinh\\left(\\sqrt{\\Omega_k}D(z)\\right) & \\Omega_k > 0\n",
        "    \\\\[.5em]\n",
        "    D(z) & \\Omega_k > 0\n",
        "    \\\\[.5em]\n",
        "    \\cfrac{1}{\\sqrt{-\\Omega_k}} \\sin\\left(\\sqrt{-\\Omega_k}D(z)\\right) & \\Omega_k < 0\n",
        "\\end{cases}\n",
        "\\qquad\\qquad\n",
        "D(z) \\equiv H_0\\int_0^z \\frac{{\\rm d}Z}{H(Z)}\n",
        "\n",
        "}\n",
        "$$\n",
        "\n",
        "where $c$ is the speed of light: $c \\simeq 2.998 \\cdot 10^{5}$ km/s.\n",
        "\n",
        "Clearly, there exists a relation between $d_L(z)$ and $H(z)$, so the luminosity distance is a useful measure of the Universe expansion history.\n",
        "\n",
        "We can create the function `dL(z, h, Omega_m, Omega_L)`. You can also pass the function `Hubble` as an argument: `dL(z, Hubble, Omega_m, Omega_Lambda)`. Additionally, you can create $D(z)$ for your convenience.\n",
        "\n",
        "Note that you need to integrate the function $H(z)$, so write your own quick-and-easy numerical integrator or [look up the pre-written methods](https://docs.scipy.org/doc/scipy/reference/tutorial/integrate.html). Make sure it returns $d_L$ in parsecs and that it uses $H_0$ measured in km/s/Mpc!"
      ]
    },
    {
      "cell_type": "code",
      "metadata": {
        "id": "bMI52FiToMd-"
      },
      "source": [
        "#Import packages for integration \r\n",
        "import scipy.integrate as integrate"
      ],
      "execution_count": 37,
      "outputs": []
    },
    {
      "cell_type": "code",
      "metadata": {
        "id": "d-ORHjzcxWNk"
      },
      "source": [
        "#dZ calculations\r\n",
        "\r\n",
        "def function(x):\r\n",
        "  return 1/(H0 * math.sqrt(O_l + O_m * ((1+x)**3) + abs(O_k)*((1+x)**2) ))\r\n",
        "\r\n",
        "def Int(H0, O_l, O_m, O_k, z):\r\n",
        "  return integrate.quad(function, 0, z)[0]\r\n",
        "\r\n",
        "def dZ(H0, O_l, O_m, O_k, z):\r\n",
        "  return H0*Int(H0, O_l, O_m, O_k, z)"
      ],
      "execution_count": 38,
      "outputs": []
    },
    {
      "cell_type": "code",
      "metadata": {
        "id": "sAvH-aEGdUm1"
      },
      "source": [
        "# Luminosity distance\r\n",
        "\r\n",
        "SPEED_OF_LIGHT = 3.8*(10**5) # <--- YOUR CODE GOES HERE!\r\n",
        "\r\n",
        "def dL(H0, O_l, O_m, O_k, z):\r\n",
        "\r\n",
        "  if (O_k > 0): #when k>0\r\n",
        "    distance = ( 1/math.sqrt(O_k) ) *  math.sinh( math.sqrt(O_k) * dZ(H0, O_l, O_m, O_k, z))\r\n",
        "\r\n",
        "  elif (O_k == 0): #when k=0\r\n",
        "    distance = dZ(H0, O_l, O_m, O_k, z)\r\n",
        "  \r\n",
        "  else: #when k<0\r\n",
        "    O_k = (-1)*O_k\r\n",
        "    distance = ( 1/math.sqrt(O_k) ) * math.sin( math.sqrt(O_k)* dZ(H0, O_l, O_m, O_k, z) ) \r\n",
        "  \r\n",
        "  return (SPEED_OF_LIGHT/H0)*(1+z)*distance"
      ],
      "execution_count": 39,
      "outputs": []
    },
    {
      "cell_type": "markdown",
      "metadata": {
        "id": "7jXRiWtiBR2Y"
      },
      "source": [
        "## <span style='color:deepskyblue'>The Union2.1 Compilation</span>\n",
        "\n",
        "Our source of data is from [Union2.1](http://supernova.lbl.gov/Union/). It is a collection of $580$ SNIa, each observation is comprised of redshift $z$ and [distance modulus](https://en.wikipedia.org/wiki/Distance_modulus) $\\mu$ (and corresponding errors $\\delta\\mu$), defined as the difference between the *apparent magnitude* $m$ and the *absolute magnitude* $M$:\n",
        "\n",
        "$$\n",
        "\\boxed{\n",
        "\\mu(z) \\equiv m(z) - M \\equiv 5 \\log_{10} \\frac{d_L(z)}{10\\,\\text{pc}}\n",
        "}\n",
        "$$\n",
        "\n",
        "Our goal today is to use SNIa measurements to constrain the parameters ($h, \\Omega_\\Lambda, \\Omega_m$).\n",
        "\n",
        "In essence, we can calculate for each redshift the theoretical value of $\\mu$ using this equation with the expression for $d_L(z)$ and our model of choice $H(z)$ -- note that we will need to perform a numerical integral! -- and compare this value with observations. A different model would amount to changing the theoretical value of $H(z)$.\n",
        "\n",
        "Let us start by importing and plotting the data:"
      ]
    },
    {
      "cell_type": "code",
      "metadata": {
        "colab": {
          "base_uri": "https://localhost:8080/"
        },
        "id": "sKb3QGqXTuJ5",
        "outputId": "28c2f559-dd50-41d2-82f0-583a170d48e0"
      },
      "source": [
        "dataloc = \"http://supernova.lbl.gov/Union/figures/SCPUnion2.1_mu_vs_z.txt\"\n",
        "\n",
        "# Read in data as numpy array.\n",
        "# Format is [name, redshift, magnitude, magnitude error, and another number?]\n",
        "data = np.genfromtxt(dataloc)\n",
        "\n",
        "# Print the first line as an example. (Note that genfromtxt turns the names into 'Not A Number')\n",
        "print(data[0])"
      ],
      "execution_count": 40,
      "outputs": [
        {
          "output_type": "stream",
          "text": [
            "[           nan 2.84880000e-02 3.53465834e+01 2.23905933e-01\n",
            " 1.28418942e-01]\n"
          ],
          "name": "stdout"
        }
      ]
    },
    {
      "cell_type": "code",
      "metadata": {
        "id": "2mvAA83gVIHz"
      },
      "source": [
        "# pull out the redshifts (zs), distance modulus (dist_mod) and magnitude estimated errors (err_dist_mod)\n",
        "zs = data.T[1] # redshift\n",
        "dist_mod = data.T[2] # distance modulus\n",
        "err_dist_mod = data.T[3] # errors on distance modulus"
      ],
      "execution_count": 41,
      "outputs": []
    },
    {
      "cell_type": "code",
      "metadata": {
        "id": "x2hF3drbVPEW"
      },
      "source": [
        "# Let's look at the data, just for fun. \n",
        "# We can look both at the raw data (distance modulus) or calculate the luminosity distance\n",
        "# Note that Numpy allows us to manipulate whole arrays at once\n",
        "import scipy.integrate as integrate\n",
        "\n",
        "# luminosity distance in pc\n",
        "dpc = 10. * 10.**(dist_mod / 5.)\n",
        "\n",
        "# and in Mpc\n",
        "dMpc = dpc / 10.**6\n",
        "\n",
        "# and the error on that distance:\n",
        "dMe = 10. * (10.**((dist_mod + err_dist_mod)/5.-6.) - 10.**((dist_mod - err_dist_mod)/5.-6.))"
      ],
      "execution_count": 42,
      "outputs": []
    },
    {
      "cell_type": "code",
      "metadata": {
        "colab": {
          "base_uri": "https://localhost:8080/",
          "height": 334
        },
        "id": "o81D-kOYYwx5",
        "outputId": "e20073b1-e3f0-4ad3-f348-0b0ac3cb9343"
      },
      "source": [
        "plt.subplots(1, 2, figsize=(15, 5))\n",
        "\n",
        "# Plot distance modulus versus redshift (original data)\n",
        "plt.subplot(1, 2, 1)\n",
        "plt.xlabel(\"Redshift\")\n",
        "plt.ylabel(\"Distance Modulus\")\n",
        "plt.errorbar(zs, dist_mod, yerr=err_dist_mod, fmt='o', color='black', ecolor='darkcyan', markersize=4)\n",
        "\n",
        "# Plot luminosity distance versus redshift\n",
        "plt.subplot(1, 2, 2)\n",
        "plt.xlabel(\"Redshift\")\n",
        "plt.ylabel(\"Luminosity Distance [Mpc]\")\n",
        "plt.errorbar(zs, dMpc, yerr=dMe, fmt='o', color='black', ecolor='darkcyan', markersize=4)\n",
        "plt.show()"
      ],
      "execution_count": 43,
      "outputs": [
        {
          "output_type": "display_data",
          "data": {
            "image/png": "[encoded data removed]",
            "text/plain": [
              "<Figure size 1080x360 with 2 Axes>"
            ]
          },
          "metadata": {
            "tags": [],
            "needs_background": "light"
          }
        }
      ]
    },
    {
      "cell_type": "markdown",
      "metadata": {
        "id": "a5CGRuGIBR2f"
      },
      "source": [
        "## <span style='color:deepskyblue'>Bayes' Theorem: Likelihood, Prior, Posterior (and Evidence...)</span>\n",
        "\n",
        "The **conditional probability of A given that B is true** is denoted with $P(A|B)$ (read: *probability of A given B*). \n",
        "Did A happen? Then B has probability $P(B|A)$ of happening.\n",
        "\n",
        "[**Bayes' Theorem**](https://en.wikipedia.org/wiki/Bayes%27_theorem) is simply a reflection of the symmetry of the concept of joint probability:\n",
        "\n",
        "$$\n",
        "P(A|B)P(B) = P(B|A)P(A)\n",
        "$$\n",
        "\n",
        "In physics, our goal is often to determine how likely the values of some parameters $\\theta$ are, given how well they reproduce the data $D$. \n",
        "We write Bayes' theorem in the following equivalent form:\n",
        "\n",
        "$$\n",
        "P(\\theta | D) = \\frac{P(D|\\theta)P(\\theta)}{P(D)}\n",
        "$$\n",
        "\n",
        "The various terms conventionally take the names:\n",
        "\n",
        "$$\n",
        "\\begin{aligned}\n",
        "P(\\theta | D) & && \\text{Posterior}\n",
        "\\\\\n",
        "P(D | \\theta)& && \\text{Likelihood}\n",
        "\\\\\n",
        "P(\\theta) & && \\text{Prior}\n",
        "\\\\\n",
        "P(D) & && \\text{Evidence}\n",
        "\\end{aligned}\n",
        "$$\n",
        "\n",
        "### <span style='color:deepskyblue'>Prior</span>\n",
        "\n",
        "The *prior* quantifies our degree of prior belief in the model parameters. It can contain the results of previous experiments, or theoretical considerations (for instance, that certain parameters cannot be negative, etc.). \n",
        "\n",
        "We can have *strong priors* about something - the Sun still existing at night, see the comic below - or not.\n",
        "When we do *not* have compelling prior knowledge about a parameter, we generally use a *non-informative* prior probability distribution, most often related to the [uniform distribution](https://en.wikipedia.org/wiki/Continuous_uniform_distribution)\n",
        "\n",
        "$$\n",
        "\\begin{aligned}\n",
        "    \\text{Uniform} & && \\theta \\in \\text{Uniform}[\\theta_{\\rm min}, \\theta_{\\rm max}]\n",
        "    \\\\\n",
        "    \\text{Log Uniform} & && \\log\\theta \\in \\text{Uniform}[\\log\\theta_{\\rm min}, \\log\\theta_{\\rm max}]\n",
        "\\end{aligned}\n",
        "$$\n",
        "\n",
        "You may sometimes hear that \"the prior doesn't matter\". While this is not strictly true, it is however true that in many instances the *likelihood* depends more dramatically on the parameters and will have a dominating contribution to the posterior. You are more than welcome to try different priors for the model parameters and see if and how your results change.\n",
        "\n",
        "### <span style='color:deepskyblue'>Likelihood</span>\n",
        "\n",
        "The measure of how well our model reproduces the data is the **likelihood** $\\mathcal L$. For normal (=Gaussian), uncorrelated data $\\mu_i$ with errors $\\sigma_i$ ($i = \\{1,580\\}$), the likelihood is related to the famous [**chi-squared**](https://en.wikipedia.org/wiki/Chi-square_distribution) via\n",
        "\n",
        "$$\n",
        "P(D | \\theta) \\equiv \\mathcal L = \\exp\\left(-\\frac{\\chi^2}{2}\\right)\n",
        "\\qquad\n",
        "\\qquad\n",
        "\\boxed{\n",
        "\\chi^2 \\equiv \\sum_{i=1}^{580} \\frac{\\left(\\mu_i^{(\\rm theor)} - \\mu_i^{(\\rm obs)}\\right)^2}{\\sigma_i^2}\n",
        "}\n",
        "$$\n",
        "\n",
        "A *high likelihood* corresponds to a *low chi squared*.\n",
        "\n",
        "In principle, we could attack the problem brute-force: create a grid of values for $h$, $\\Omega_m$, $\\Omega_\\Lambda$, calculate the likelihood for each combination, and create a profile for the likelihood. \n",
        "\n",
        "In practical cases, however, this is not only sub-optimal but sometimes **impossible**. Think of complicated models with 20+ free parameters (this is not that unusual in physics, by the way). Even a very coarse grained grid of 100 values for each parameter would result in more than$10^{40}$ (!!!) different parameter combination to be tested. You can probably understand why this is undesirable.\n",
        "\n",
        "### <span style='color:deepskyblue'>Evidence</span>\n",
        "\n",
        "This is the tricky bit. The evidence, which is \"*the probability of observing certain data*\", is not something that is easy to evaluate or interpret. This looks like a serious limitation to finding the:\n",
        "\n",
        "\n",
        "### <span style='color:deepskyblue'>Posterior</span>\n",
        "\n",
        "What does the data tell us about the model parameters? The answer is the *posterior probability distribution*, often (but not necessarily) expressed as (average $\\pm$ standard deviation)\n",
        "\n",
        "$$\n",
        "\\theta_i = \\bar\\theta_i \\pm \\sigma_i\n",
        "$$\n",
        "\n",
        "In other words, the posterior tells us how likely it is for the model parameters to have certain values, *given that we observe the data* $D$.\n",
        "\n",
        "*This is the final goal of our analysis!*\n",
        "\n",
        "<br>\n",
        "\n",
        "![title](http://1.bp.blogspot.com/-tTx4HDejSww/ULcTeK9_V_I/AAAAAAAAA8g/PCYOH-eXGbk/s1600/frequentists_vs_bayesians.png)\n",
        "![title](https://i.redd.it/5r0hwixt0m931.jpg)"
      ]
    },
    {
      "cell_type": "markdown",
      "metadata": {
        "id": "lymI_LaObhcU"
      },
      "source": [
        "## <span style='color:deepskyblue'>Markov-Chain Monte Carlo</span>\n",
        "\n",
        "Markov-Chain Monte Carlo techniques are a class of methods to sample a probability distribution $P(x)$ - in our case $P(\\theta | D)$ - provided that we can calculate a density $\\mathcal F(x)$ **that is proportional to it** - in our case $P(\\theta)P(D|\\theta)$ = likelihood $\\times$ prior. Among these, a very popular one is the [**Metropolis-Hastings**](https://en.wikipedia.org/wiki/Metropolis%E2%80%93Hastings_algorithm) algorithm, which is what we will use.\n",
        "\n",
        "Schematically, the algorithm works as follows:\n",
        "* Start with an $n$-tuple of parameters $\\theta_{\\rm old} = \\{\\theta_1, \\theta_2, \\dots\\}_{\\rm old}$ (in our case $\\theta = \\{h,\\Omega_m,\\Omega_\\Lambda\\}$) and calculate the $\\mathcal F_{\\rm old}$\n",
        "* Propose a new set of parameters $\\theta_{\\rm prop}$, calculate the new corresponding $\\mathcal F_{\\rm prop}$. How you propose the new parameters is not essential as long as the probability of going from one set of parameters to the next is the same as the inverse: $P(\\theta_a \\to \\theta_b) = P(\\theta_b \\to \\theta_a)$. For this, we normally take Gaussian displacements with some (relatively small) standard deviation.\n",
        "* Compare the new and old likelihoods-priors:\n",
        "    * If $\\mathcal F_{\\rm prop} > \\mathcal F_{\\rm old}$, accept the step: $\\theta_{\\rm new} = \\theta_{\\rm prop}$\n",
        "    * Otherwise, accept with probability $P_{\\rm accept} = \\mathcal F_{\\rm prop}/\\mathcal F_{\\rm old}$\n",
        "* If accepted, $\\theta_{\\rm new} = \\theta_{\\rm prop}$ and record the step; otherwise, $\\theta_{\\rm new} = \\theta_{\\rm old}$ (no re-recording)\n",
        "* Update $\\theta_{\\rm old} = \\theta_{\\rm new}$\n",
        "* Repeat\n",
        "\n",
        "The MC chain keeps going until the desired number of steps or, ideally, when a suitable convergence test, like for example the [Gelman-Rubin test](https://bookdown.org/rdpeng/advstatcomp/monitoring-convergence.html), is satisfied. \n",
        "Today we will just set a limit to the total number of steps, but please feel free to implement and test your favourite convergence test!\n",
        "\n",
        "Looking at equation (4), you can convince yourself that\n",
        "$$\n",
        "\\frac{\\mathcal L_a}{\\mathcal L_b} = \\exp\\left(\\frac{\\chi_b^2 - \\chi_a^2}{2}\\right)\n",
        "$$\n",
        "\n",
        "(This is useful because $\\chi^2$ can be large, so we want to avoid the likelihoods evaluating to `0.` -- computers don't like dividing by zero, unfortunately)\n",
        " \n",
        "* Start with an $n$-tuple of parameters $\\theta_{\\rm old} = \\{\\theta_1, \\theta_2, \\dots\\}_{\\rm old}$ (in our case $\\theta = \\{h,\\Omega_m,\\Omega_\\Lambda\\}$) and the corresponding chi squared $\\chi_{\\rm old}^2$ (to be clear, for us this implies calculating a series of 580 integrals and comparing each with the observed values)\n",
        "* Propose new parameters $\\theta_{\\rm prop}$ and calculate the corresponding chi squared $\\chi_{\\rm prop}^2$\n",
        "* Draw a random number $r \\in [0,1]$\n",
        "* Accept the step if \n",
        "$$\n",
        "r < \\exp\\left(\\frac{\\chi_{\\rm old}^2 - \\chi_{\\rm prop}^2}{2}\\right) \\frac{P(\\theta)_{\\rm prop}}{P(\\theta)_{\\rm old}}\n",
        "$$\n",
        "    * If accepted, update $\\theta_{\\rm old} = \\theta_{\\rm prop}$, and record; otherwise, $\\theta_{\\rm new} = \\theta_{\\rm old}$ (no re-recording)\n",
        "* Repeat"
      ]
    },
    {
      "cell_type": "code",
      "metadata": {
        "id": "WqOqwo5qngFR"
      },
      "source": [
        "# Theoretical distance modulus function \r\n",
        "\r\n",
        "def theor_distance_modulus(H0, O_l, O_m, O_k, z):\r\n",
        "  return 5*np.log10( dL(H0, O_l, O_m, O_k, z)/(1E-5) ) "
      ],
      "execution_count": 44,
      "outputs": []
    },
    {
      "cell_type": "code",
      "metadata": {
        "id": "l3D-c9IfPztf"
      },
      "source": [
        "# List of new parameters in array format\r\n",
        "H0_arr = np.random.normal(70, 1, size = (200,1)) #define the intervals based on values given during the practical\r\n",
        "O_l_arr = np.random.normal(0.7, 0.1, size = (200,1))\r\n",
        "O_m_arr = np.random.normal(0.3, 0.1, size = (200,1))\r\n",
        "\r\n",
        "#make the O_k array by calculating it from the existing O_l and O_m arrays\r\n",
        "Ones_arr = np.ones((200,1))\r\n",
        "O_k_arr = Ones_arr - (O_l_arr + O_m_arr)\r\n",
        "\r\n",
        "#distance (error) values define\r\n",
        "zs = data.T[1] #redshift\r\n",
        "distance = data.T[2] #distance\r\n",
        "distance_err = data.T[3] #distance error"
      ],
      "execution_count": 45,
      "outputs": []
    },
    {
      "cell_type": "code",
      "metadata": {
        "colab": {
          "base_uri": "https://localhost:8080/"
        },
        "id": "2KQVCM_uUQc3",
        "outputId": "131d64ce-984a-448d-c24e-79f929dcab64"
      },
      "source": [
        "# MCMC\r\n",
        "\r\n",
        "epochs = 200\r\n",
        "print(\"H0                   Omega_m              Omega_l\")\r\n",
        "\r\n",
        "\r\n",
        "for j in range(0, epochs):\r\n",
        "  chisquare = 0 \r\n",
        "\r\n",
        "\r\n",
        "\r\n",
        "  # Calculate chisquare of every z\r\n",
        "  for i in range(0, len(zs)):\r\n",
        "    sum = ((theor_distance_modulus(H0_arr[j,0], O_l_arr[j,0], O_m_arr[j,0], O_k_arr[j,0], zs[i]) - distance[i] )**2)/((distance_err[i])**2)\r\n",
        "    chisquare += sum # New chisquare\r\n",
        "    chisquare_old = chisquare\r\n",
        "\r\n",
        "\r\n",
        "\r\n",
        "  r = np.random.uniform(0,1) #Number chosen from the uniform distribution [0,1]\r\n",
        "   \r\n",
        "\r\n",
        "\r\n",
        "  if r < np.exp( ((chisquare_old**2) - (chisquare**2)) / 2 ): #conditonal \r\n",
        "      chisquare_old = chisquare \r\n",
        "      values = (H0_arr[j,0], O_m_arr[j,0], O_l_arr[j,0])\r\n",
        "      print(values)"
      ],
      "execution_count": 46,
      "outputs": [
        {
          "output_type": "stream",
          "text": [
            "H0                   Omega_m              Omega_l\n",
            "(71.3143160739652, 0.20581466523759384, 0.7306751875087211)\n",
            "(67.65490287693562, 0.4571797202801028, 0.8688951492385832)\n",
            "(69.53500097189298, 0.504275779037088, 0.9044709739741404)\n",
            "(69.19806913146884, 0.30613999666056385, 0.7164577973905235)\n",
            "(71.75524861151213, 0.22755555193504082, 0.5629269931256018)\n",
            "(70.69648625695433, 0.4125305908879425, 0.6262536946543688)\n",
            "(71.40575733954765, 0.3644475227262742, 0.6381275862231932)\n",
            "(71.03171389098014, 0.39151598782529595, 0.6993405212449695)\n",
            "(69.39022581958153, 0.3118403333709973, 0.6947674347609714)\n",
            "(70.98327139054882, 0.4102151223101867, 0.7896936795385839)\n",
            "(69.18517568292017, 0.23620737003271078, 0.7491387807106884)\n",
            "(69.8417110744869, 0.23435689937823456, 0.7009291659763989)\n",
            "(70.03499261242605, 0.3331476148450575, 0.8339590821954677)\n",
            "(71.37884656782302, 0.2395328823075772, 0.7318276629260637)\n",
            "(70.8228536861677, 0.2532149755135732, 0.5470217962241228)\n",
            "(70.71525994004729, 0.18387832782786095, 0.8135659400532678)\n",
            "(69.14560096245853, 0.2640023291666602, 0.5131398087190263)\n",
            "(69.47043478863426, 0.15732162563940916, 0.5857266358209123)\n",
            "(69.73746433497917, 0.3054731270495051, 0.6572997197188298)\n",
            "(70.3538357428493, 0.42301022582260994, 0.7403613272451917)\n",
            "(71.19613220272186, 0.11658625775842035, 0.7737255151524133)\n",
            "(69.66319062776067, 0.2196656750064211, 0.6456403650089477)\n",
            "(68.9796435087923, 0.38078255339602196, 0.7249761059629514)\n",
            "(68.31564991392008, 0.1260831425554857, 0.7423658395207692)\n",
            "(69.26278116873331, 0.2564132118974642, 0.6057292756462647)\n",
            "(68.22801454795442, 0.2822876561215477, 0.7170875447111847)\n",
            "(71.92901280031099, 0.2410887293316731, 0.750068227825403)\n",
            "(68.21727810673497, 0.37802520343528484, 0.9149096918359079)\n",
            "(69.21397833322978, 0.36545341821872057, 0.9125664928556664)\n",
            "(71.05987015969586, 0.26248751356616407, 0.7909558803172276)\n",
            "(69.70579809068741, 0.38358049558168483, 0.6742875711980623)\n",
            "(69.21322759111992, 0.192682639636094, 0.7138609044035659)\n",
            "(69.90688978311613, 0.3435305220558812, 0.7229520949059541)\n",
            "(68.427516239476, 0.21015185495452832, 0.7335216748731119)\n",
            "(69.95850177902034, 0.19128277693514267, 0.7541041437930642)\n",
            "(71.36616727400929, 0.41622981365849626, 0.7078419624305788)\n",
            "(70.4673867179167, 0.23702828405299248, 0.5170064063178462)\n",
            "(67.97252718034615, 0.2531377933236574, 0.7832721942090989)\n",
            "(68.35392635945169, 0.3530833927940271, 0.7837816747069527)\n",
            "(69.12074641533475, 0.10783368753353886, 0.6486763937767998)\n",
            "(69.52008556021913, 0.39646777059142463, 0.717559048768664)\n",
            "(71.29276488717262, 0.3255527743233486, 0.4856679249833461)\n",
            "(70.7277181381915, 0.20974822417264039, 0.8003106785349536)\n",
            "(70.42619240779912, 0.25257187112338414, 0.6630311564539902)\n",
            "(71.15782921242692, 0.14034817055222604, 0.757774773882185)\n",
            "(67.92649264929074, 0.1463404957414008, 0.6031887928844613)\n",
            "(69.96282052649545, 0.1517639534982716, 0.529058661634028)\n",
            "(70.07799482103454, 0.24173908101216854, 0.730192696490585)\n",
            "(71.47284772220608, 0.3426689821376134, 0.6647308651165574)\n",
            "(70.46976686696799, 0.4151883745138244, 0.5214348299523802)\n",
            "(69.5873762285815, 0.2407969522165475, 0.7269800098255019)\n",
            "(69.39934177922864, 0.14096052455483146, 0.6071327970778433)\n",
            "(71.29653405203975, 0.27083656297439, 0.5771411262506332)\n",
            "(70.0038184646531, 0.12572528752891612, 0.7642649573300707)\n",
            "(69.59989479043651, 0.4576747442681811, 0.8122597144073849)\n",
            "(70.90388725247267, 0.33015704089449915, 0.7225933703433192)\n",
            "(69.97376799979415, 0.1718004734593249, 0.7052515140484841)\n",
            "(70.35969843004438, 0.19991444968634875, 0.5324290732024604)\n",
            "(70.43236191675149, 0.3050665957330835, 0.7581965092844454)\n",
            "(69.42660829994598, 0.3986454258660108, 0.6463129678679657)\n",
            "(71.3251021687648, 0.3218567296341015, 0.5742604981048846)\n",
            "(69.9418105523363, 0.31362721495478546, 0.6616659290466074)\n",
            "(68.82128208995387, 0.4051370199349672, 0.5706213425113011)\n",
            "(69.873899839387, 0.38733260106450873, 0.6607830002049637)\n",
            "(71.10818534191567, 0.4431979991110096, 0.6688646948316261)\n",
            "(69.92667684916618, 0.4574932403649734, 0.799725223813492)\n",
            "(69.92289712777219, 0.46846687454974517, 0.8052974616922965)\n",
            "(70.9001658371171, 0.24233864639773808, 0.7045570900362681)\n",
            "(70.35824433656163, 0.19653077875253722, 0.6898570231243288)\n",
            "(70.4923805637298, 0.3094774512956969, 0.9925334006087373)\n",
            "(70.04407596371948, 0.34843633198482316, 0.762081831717941)\n",
            "(68.9700131481427, 0.35381402423270075, 0.6821189573728578)\n",
            "(69.50441530609753, 0.41172845454823903, 0.604998221406331)\n",
            "(70.74063731499464, 0.3260226020396802, 0.7970236068234653)\n",
            "(69.26954616472061, 0.17702002806695888, 0.7307566642213655)\n",
            "(70.4218211849298, 0.32639404972607067, 0.7788451940959965)\n",
            "(70.30527046101122, 0.3711306021296621, 0.6366558199073543)\n",
            "(70.41214589269818, 0.27648949764031994, 0.6942725444385397)\n",
            "(68.42950936869809, 0.1404011073873049, 0.6198907340254458)\n",
            "(72.01928255522135, 0.13458675303799186, 0.6707101580009677)\n",
            "(70.44423475762534, 0.3397893980653325, 0.6596653188943168)\n",
            "(69.15845113192539, 0.44175008429830626, 0.8464639630040726)\n",
            "(69.85506888482178, 0.3891945305776453, 0.7346763049591515)\n",
            "(69.97183202116014, 0.43261605202107034, 0.694737532879189)\n",
            "(68.33249852576184, 0.35488578651978736, 0.7997476227376203)\n",
            "(71.08915891634763, 0.32730452334688437, 0.7470610705458394)\n",
            "(69.23284227902079, 0.32234688270174805, 0.7776489043066181)\n",
            "(70.10871519699069, 0.21377321688566303, 0.795817526482679)\n",
            "(69.13547098417575, 0.5522522818320901, 0.5381571179096132)\n",
            "(70.96260619453908, 0.19210320581250911, 0.8691072500172159)\n",
            "(70.91889811729949, 0.19838870124262245, 0.8145441473851658)\n",
            "(70.20904741548617, 0.28911982611584497, 0.606920112735721)\n",
            "(71.19714552413409, 0.29227777030689095, 0.6829690501619986)\n",
            "(68.8553008447996, 0.28087427763510137, 0.7014677354173088)\n",
            "(70.62973975022643, 0.295397912626964, 0.8187276481046644)\n",
            "(70.7404258519746, 0.2637560239621567, 0.6115750253414979)\n",
            "(69.7633615266444, 0.031002639206699933, 0.7749149889770519)\n",
            "(70.99540313022676, 0.39052534562518404, 1.0208592830094796)\n",
            "(69.43213388327938, 0.21108461289661007, 0.6099519941221622)\n",
            "(71.13507496934102, 0.34573388189507664, 0.6177778031098896)\n",
            "(69.05272746610764, 0.4455674978523, 0.777642420294132)\n",
            "(72.4123628089463, 0.24286376659322345, 0.7204775136363145)\n",
            "(68.85984895465587, 0.13912928536479313, 0.8533580709714276)\n",
            "(70.21785541116324, 0.3834697531375978, 0.7193574586024901)\n",
            "(71.20355114299066, 0.23559197911996507, 0.8262629784463326)\n",
            "(70.30004550675045, 0.3746983934900571, 0.6180314189601209)\n",
            "(67.96345083920856, 0.28941876195104704, 0.8515737392470906)\n",
            "(69.8325056411594, 0.4266599771632299, 0.8623496558468338)\n",
            "(69.72577087498412, 0.32312192831421566, 0.7237371871021772)\n",
            "(68.6563904475131, 0.51431812799956, 0.6683618796126166)\n",
            "(71.34453507314595, 0.3645636648457331, 0.6966248610109456)\n",
            "(70.36501834225176, 0.23216958079100292, 0.7176498772773509)\n",
            "(70.43773624117479, 0.16392863902499316, 0.8241590483545701)\n",
            "(70.0851475682503, 0.3742433340920236, 0.661511440733891)\n",
            "(70.29765250625728, 0.04601846494622608, 0.50001214479633)\n",
            "(69.95494095147082, 0.3656510877567468, 0.7407948870645011)\n",
            "(68.06919794566952, 0.2909875924446758, 0.7320179179256361)\n",
            "(70.94571853214413, 0.19492793121452745, 0.703730620996591)\n",
            "(70.27886255333408, 0.31161160018456424, 0.8416029165147006)\n",
            "(70.83633029284222, 0.4446275387589368, 0.8454320125912773)\n",
            "(71.01769025613734, 0.4362561791883162, 0.8245817412016974)\n",
            "(71.15578060585545, 0.2369447594131932, 0.7171398424943431)\n",
            "(69.10310566308314, 0.31910150228198547, 0.5587281077099584)\n",
            "(68.72873692886317, 0.3543821091544948, 0.8482123640352347)\n",
            "(71.06744197713547, 0.3032507569657088, 0.6768572991436413)\n",
            "(71.60166253592898, 0.29342855176406424, 0.6870417401690952)\n",
            "(70.25756263878479, 0.2734640552101671, 0.7211481019193597)\n",
            "(68.68489953895387, 0.3506877727074142, 0.59134531823485)\n",
            "(70.45689755923601, 0.34306280238744435, 0.7614563723671998)\n",
            "(69.5795899349074, 0.14928774696591116, 0.8499390492864156)\n",
            "(70.36150523421172, 0.27212953823181374, 0.8377250310863558)\n",
            "(69.78093001372258, 0.5289801796640035, 0.7116029883785684)\n",
            "(70.17144699808648, 0.3524087663703843, 0.751400028906053)\n",
            "(70.56715141387637, 0.3890065418641032, 0.6362186799777692)\n",
            "(70.07367274345913, 0.19359916380585263, 0.3763715124375915)\n",
            "(67.0523277354021, 0.4519428856201808, 0.7710203908277813)\n",
            "(69.59369132716243, 0.37810219987551247, 0.47616388888398203)\n",
            "(71.22916748792471, 0.3364382896770312, 0.6175032488977493)\n",
            "(69.46374502078756, 0.2630929949911882, 0.6140193922156416)\n",
            "(70.96246540017721, 0.1888025360546432, 0.7674235661487142)\n",
            "(70.4562974841353, 0.29293749621701753, 0.8733941193580731)\n",
            "(71.23651408307937, 0.4725461288329957, 0.7038659014209776)\n",
            "(69.69919884482323, 0.48613885355575853, 0.894290308127843)\n",
            "(72.25119790857107, 0.42643464765452105, 0.48076364248450054)\n",
            "(70.02077111144541, 0.3289246825861411, 0.6848265563347868)\n",
            "(70.88721181827798, 0.40145429947808575, 0.57465228229019)\n",
            "(70.87875462493598, 0.28309874808248087, 0.7358053710070376)\n",
            "(69.52014607084331, 0.36276662540257776, 0.6915950210365824)\n",
            "(71.37885821552307, 0.2269406218668979, 0.508832443475594)\n",
            "(68.93850727492087, 0.20950931093647934, 0.638715435587871)\n",
            "(70.44222640347955, 0.29704907943914216, 0.7084686138416887)\n",
            "(70.19926394767961, 0.40124872202001377, 0.7072885924155593)\n",
            "(70.15108770671962, 0.46314586883680836, 0.46937052435460924)\n",
            "(68.98697258573715, 0.15346873935729075, 0.7743535300162023)\n",
            "(70.54319695759344, 0.5298357779160159, 0.4739133072118919)\n",
            "(69.9217254177215, 0.33705042705237426, 0.6655369133643225)\n",
            "(70.37457778279428, 0.42236123159692135, 0.6078186377440633)\n",
            "(68.40601788760264, 0.4208824072133678, 0.6234820994429499)\n",
            "(69.66500111630987, 0.187708204186524, 0.6786130842817213)\n",
            "(71.5645439370511, 0.29668437589747726, 0.6890129364346469)\n",
            "(69.78330629970301, 0.4356588359369219, 0.46223891377581605)\n",
            "(70.05820835425502, 0.3201000141588253, 0.8210280250568756)\n",
            "(70.44210744569824, 0.2565691913686203, 0.7853828977263534)\n",
            "(69.97996388157064, 0.4074570446387795, 0.5367766566394533)\n",
            "(70.62758279258074, 0.2993444927779861, 0.8263479157664845)\n",
            "(70.025641425032, 0.2103754802258993, 0.6853105047860791)\n",
            "(68.17288685336058, 0.25175769518824687, 0.6284900039047343)\n",
            "(69.17625119997055, 0.3113833574022228, 0.4862477292273284)\n",
            "(70.21149392056324, 0.19456221157382442, 0.6028264824180528)\n",
            "(71.00060398964013, 0.47351274331033644, 0.8050856065684293)\n",
            "(69.45726827442824, 0.3179469923108999, 0.584959689894905)\n",
            "(69.33195376216919, 0.47608063011784996, 0.7858406176844244)\n",
            "(71.90421904741727, 0.30638249631422027, 0.774098584407207)\n",
            "(67.20017329571843, 0.4510482280858351, 0.6354981694389943)\n",
            "(70.19358829810794, 0.21986022296920138, 0.7823604398926334)\n",
            "(70.62544921562419, 0.21839130577349133, 0.566727747234958)\n",
            "(68.98585233458505, 0.2652438395236654, 0.5999205236408512)\n",
            "(71.1772580846719, 0.25649854138367173, 0.849164301870535)\n",
            "(69.6163584529615, 0.42318277733786747, 0.7165918026127549)\n",
            "(69.9113610070413, 0.369417120895057, 0.8610269081896372)\n",
            "(67.16969518284475, 0.3694298537693579, 0.49476598365339924)\n",
            "(71.24513308324222, 0.46439612482830683, 0.7280946272784146)\n",
            "(70.08640554605635, 0.3392333480943253, 0.7829023116896553)\n",
            "(69.35102976228004, 0.5374817589013001, 0.6789648526694003)\n",
            "(72.531402702061, 0.3514408195124623, 0.9923569191999448)\n",
            "(70.4524935577726, 0.17863030353432424, 0.6020257076374113)\n",
            "(69.31538912651465, 0.281873665219119, 0.7996265894005552)\n",
            "(70.63999006838267, 0.47228601404648063, 0.7342407987225279)\n",
            "(69.03707054175494, 0.29651919504155605, 0.5428609145668124)\n",
            "(71.08960119795417, 0.2781633245387792, 0.8405682719571677)\n",
            "(69.91947462405462, 0.36136599299895017, 0.4915537176868458)\n",
            "(68.8894860597882, 0.313707322432894, 0.7979070014198486)\n",
            "(69.77300697748407, 0.29473245155389866, 0.7997970032465628)\n",
            "(71.97814377934873, 0.2963584048626049, 0.8643675214857582)\n",
            "(70.77793747731056, 0.21169288059620778, 0.7402925984269)\n",
            "(70.73621104630759, 0.18943358543814115, 0.766003531755858)\n",
            "(69.78500418995131, 0.10013261275539093, 0.9104525678342619)\n",
            "(70.54573129171158, 0.41747199434697047, 0.746595497588613)\n",
            "(69.74774233022295, 0.20305785576785723, 0.5783527808424502)\n",
            "(69.20301767161068, 0.09337004055260317, 0.7874720453698283)\n"
          ],
          "name": "stdout"
        }
      ]
    },
    {
      "cell_type": "markdown",
      "metadata": {
        "id": "vlNJ-55pBR2n"
      },
      "source": [
        "After completion of the programme, your MC chain will (*hopefully*) look something like this:\n",
        "\n",
        "`#Omega_m  Omega_L  h   \n",
        " 0.297     0.703    69.8\n",
        " 0.285     0.715    70.1\n",
        " 0.288     0.712    69.9\n",
        " ...\n",
        "`"
      ]
    },
    {
      "cell_type": "markdown",
      "metadata": {
        "id": "PGlpMLQ6BR2n"
      },
      "source": [
        "## <span style='color:deepskyblue'>Plotting: GetDist</span>\n",
        "\n",
        "We will do the plots with [`GetDist`](https://getdist.readthedocs.io/en/latest/plot_gallery.html).\n",
        "\n",
        "The plot gallery contains a lot of useful examples, you should be able to read them fairly easily and see which applies to your situation. Look for both (triangle) plots and for parameter estimation.\n",
        "\n",
        "Note that many `GetDist` functions require arguments of type `MCSamples`; make sure you convert your lists accordingly."
      ]
    },
    {
      "cell_type": "code",
      "metadata": {
        "id": "3_JKwHjXBR2o",
        "colab": {
          "base_uri": "https://localhost:8080/",
          "height": 674
        },
        "outputId": "f4697d76-bac4-418f-8ff3-8d599d96d104"
      },
      "source": [
        "import getdist, IPython\n",
        "from getdist import plots, MCSamples, loadMCSamples\n",
        "#print('Version: ',getdist.__version__)\n",
        "import numpy as np\n",
        "import pylab\n",
        "from random import random\n",
        "from random import gauss\n",
        "# If you want to use LaTeX in the labels. Not mandatory, but it looks nice ;)\n",
        "#pylab.rc('text',usetex=True) \n",
        "\n",
        "my_length = 1000;\n",
        "par1, par2 = [], []\n",
        "\n",
        "m1, m2, s1, s2 = random(), random(), random(), random()\n",
        "for i in range(my_length):\n",
        "    par1.append(gauss(m1, s1))\n",
        "    par2.append(gauss(m2, s2))\n",
        "\n",
        "par1 = np.array(par1)\n",
        "par2 = np.array(par2)\n",
        "par3 = (-0.5 + random()) * par1 + (-0.5 + random()) * par2\n",
        "\n",
        "my_labels = ['alpha', 'beta', 'gamma']\n",
        "my_names = ['name1', 'name2', 'name3']\n",
        "my_samples = np.array([par1, par2, par3])\n",
        "\n",
        "my_dim = 3\n",
        "\n",
        "my_samples = np.transpose(np.reshape(my_samples,(my_dim,int(my_samples.size/my_dim))))\n",
        "samples1 = MCSamples(samples = my_samples, labels = my_labels, names = my_names)\n",
        "\n",
        "#Triangle corner plot\n",
        "j = plots.getSubplotPlotter(subplot_size=3)\n",
        "j.settings.axes_labelsize = 22\n",
        "j.settings.axes_fontsize = 16\n",
        "j.triangle_plot(samples1, filled = True)"
      ],
      "execution_count": 47,
      "outputs": [
        {
          "output_type": "stream",
          "text": [
            "Removed no burn in\n"
          ],
          "name": "stdout"
        },
        {
          "output_type": "display_data",
          "data": {
            "image/png": "[encoded data removed]",
            "text/plain": [
              "<Figure size 648x648 with 6 Axes>"
            ]
          },
          "metadata": {
            "tags": [],
            "needs_background": "light"
          }
        }
      ]
    },
    {
      "cell_type": "code",
      "metadata": {
        "id": "xhhT6JfCBR2p",
        "colab": {
          "base_uri": "https://localhost:8080/",
          "height": 470
        },
        "outputId": "7233432a-d052-44cb-9194-937388b443f9"
      },
      "source": [
        "# example of theoretical curves\n",
        "SPEED_OF_LIGHT = 299792.458 # in km/s\n",
        "\n",
        "# Still need to add Omega_k!\n",
        "def theor_luminosity_distance(z, h, OmegaM, OmegaL):\n",
        "    return 10.**6 * SPEED_OF_LIGHT / h * (1.+z) * \\\n",
        "    integrate.quad(lambda x: 1. / np.sqrt(OmegaM * (1.+x)**3 + OmegaL), 0., z)[0]\n",
        "\n",
        "def theor_distance_modulus(z, h, OmegaM, OmegaL):\n",
        "    return 5. * (-1. + np.log10(theor_luminosity_distance(z, h, OmegaM, OmegaL)))\n",
        "                 \n",
        "zsort = sorted(zs)\n",
        "d_best_fit, d_min, d_max = [], [], []\n",
        "\n",
        "# YOUR RESULTS GO HERE!\n",
        "for z in zsort:\n",
        "    d_best_fit.append(theor_distance_modulus(z, 70., 0.3, 0.7))\n",
        "    d_min.append(theor_distance_modulus(z, 75., 0.5, 0.5))\n",
        "    d_max.append(theor_distance_modulus(z, 65., 0.1, 0.9))\n",
        "    \n",
        "plt.subplots(figsize=(10, 7.5))\n",
        "plt.xlabel(\"Redshift\")\n",
        "plt.ylabel(\"Distance Modulus\")\n",
        "\n",
        "plt.errorbar(zs, dist_mod, yerr=err_dist_mod,\\\n",
        "             fmt='o', color='black', ecolor='darkcyan', markersize=4)\n",
        "plt.plot(zsort, d_best_fit, color='firebrick',linewidth=2.)\n",
        "plt.fill_between(zsort, d_min, d_max, color='grey', alpha=.2)\n",
        "plt.show()"
      ],
      "execution_count": 48,
      "outputs": [
        {
          "output_type": "display_data",
          "data": {
            "image/png": "[encoded data removed]",
            "text/plain": [
              "<Figure size 720x540 with 1 Axes>"
            ]
          },
          "metadata": {
            "tags": [],
            "needs_background": "light"
          }
        }
      ]
    }
  ]
}